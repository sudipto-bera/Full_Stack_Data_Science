{
 "cells": [
  {
   "cell_type": "markdown",
   "id": "2359e129-b7e9-4791-9f4e-10e1bb153986",
   "metadata": {
    "tags": []
   },
   "source": [
    " ### Python liabrary and use of it \n",
    "\n",
    "- **Collection of code**: Python libraries are collections of pre-written code and functions.\n",
    "- **Reuse**: They allow developers to reuse code for common tasks, saving time and effort.\n",
    "- **Efficiency**: Libraries are often optimized for performance, leading to efficient code execution.\n",
    "- **Specialized functionality**: Libraries provide specialized functionality for various tasks like data manipulation, web development, machine learning, etc.\n",
    "- **Community support**: Developed and maintained by a community, libraries receive ongoing improvements and updates.\n",
    "- **Interoperability**: Libraries work well together and with other Python code, promoting interoperability.\n"
   ]
  },
  {
   "cell_type": "markdown",
   "id": "f8251f6c-d85d-42f2-af2f-ef04c74146aa",
   "metadata": {},
   "source": [
    "\n",
    " ## Difference between Numpy array and List\n",
    "\n",
    "- **Data types**: NumPy arrays are homogeneous, while Python lists can contain elements of different data types.\n",
    "\n",
    "- **Memory and performance**: NumPy arrays are more memory efficient and offer faster mathematical operations compared to Python lists.\n",
    "\n",
    "- **Functionality**: NumPy arrays have more built-in functions for mathematical operations and array manipulation.\n",
    "\n",
    "- **Indexing and slicing**: NumPy arrays support advanced indexing and slicing, while Python lists have limited slicing capabilities.\n",
    "\n",
    "- **Size flexibility**: Python lists can dynamically resize, while NumPy arrays have a fixed size defined at creation."
   ]
  },
  {
   "cell_type": "code",
   "execution_count": 1,
   "id": "a7c554fa-c489-4008-9368-89d8eb6aa2fa",
   "metadata": {},
   "outputs": [],
   "source": [
    "import numpy as np"
   ]
  },
  {
   "cell_type": "code",
   "execution_count": 2,
   "id": "103dd6a2-ea43-4cdb-a2f5-0aca943b4012",
   "metadata": {},
   "outputs": [],
   "source": [
    "arr  = np.array([[1,2,3,4],[5,6,7,8],[9,10,11,12]])"
   ]
  },
  {
   "cell_type": "code",
   "execution_count": 3,
   "id": "73208c3b-41c5-49d5-8b3f-25d840498366",
   "metadata": {},
   "outputs": [
    {
     "data": {
      "text/plain": [
       "array([[ 1,  2,  3,  4],\n",
       "       [ 5,  6,  7,  8],\n",
       "       [ 9, 10, 11, 12]])"
      ]
     },
     "execution_count": 3,
     "metadata": {},
     "output_type": "execute_result"
    }
   ],
   "source": [
    "arr"
   ]
  },
  {
   "cell_type": "code",
   "execution_count": 27,
   "id": "9a71f9be-4cb1-4938-971e-9b1ffbf29868",
   "metadata": {},
   "outputs": [
    {
     "data": {
      "text/plain": [
       "(3, 4)"
      ]
     },
     "execution_count": 27,
     "metadata": {},
     "output_type": "execute_result"
    }
   ],
   "source": [
    "arr.shape # shape of array"
   ]
  },
  {
   "cell_type": "code",
   "execution_count": 28,
   "id": "daece1b1-6ff6-4967-8091-73c1e13ae8a3",
   "metadata": {},
   "outputs": [
    {
     "data": {
      "text/plain": [
       "12"
      ]
     },
     "execution_count": 28,
     "metadata": {},
     "output_type": "execute_result"
    }
   ],
   "source": [
    "arr.size # size of array"
   ]
  },
  {
   "cell_type": "code",
   "execution_count": 29,
   "id": "2c2d806b-83a2-4d50-9db9-0d42551af116",
   "metadata": {},
   "outputs": [
    {
     "data": {
      "text/plain": [
       "2"
      ]
     },
     "execution_count": 29,
     "metadata": {},
     "output_type": "execute_result"
    }
   ],
   "source": [
    "arr.ndim # dimension of array"
   ]
  },
  {
   "cell_type": "code",
   "execution_count": 30,
   "id": "d5a802fb-6973-4dda-a3ee-a264f9fa8c79",
   "metadata": {},
   "outputs": [
    {
     "data": {
      "text/plain": [
       "array([1, 2, 3, 4])"
      ]
     },
     "execution_count": 30,
     "metadata": {},
     "output_type": "execute_result"
    }
   ],
   "source": [
    "arr[0] # access first row"
   ]
  },
  {
   "cell_type": "code",
   "execution_count": 34,
   "id": "d23b8402-e092-4c43-8aa3-4fe82eebf8d2",
   "metadata": {},
   "outputs": [
    {
     "data": {
      "text/plain": [
       "12"
      ]
     },
     "execution_count": 34,
     "metadata": {},
     "output_type": "execute_result"
    }
   ],
   "source": [
    "arr [2,3] # aaccess element : third row , second column"
   ]
  },
  {
   "cell_type": "code",
   "execution_count": 35,
   "id": "1ecf0d99-c33b-4f3b-bcd0-97b01222e01c",
   "metadata": {},
   "outputs": [
    {
     "data": {
      "text/plain": [
       "array([[ 2,  4],\n",
       "       [ 6,  8],\n",
       "       [10, 12]])"
      ]
     },
     "execution_count": 35,
     "metadata": {},
     "output_type": "execute_result"
    }
   ],
   "source": [
    "arr[:,1::2] # access element : odd - indexed elements"
   ]
  },
  {
   "cell_type": "code",
   "execution_count": 36,
   "id": "e8df6df9-a3c4-46f9-babf-2cae0ab3cb77",
   "metadata": {},
   "outputs": [],
   "source": [
    "arr1 = np.random.rand(3,3) # generate random 3*3 matrix "
   ]
  },
  {
   "cell_type": "code",
   "execution_count": 11,
   "id": "d8cd008b-2e4c-4530-b7ef-26eb4f9904e6",
   "metadata": {},
   "outputs": [
    {
     "data": {
      "text/plain": [
       "array([[0.67510737, 0.64355885, 0.53850538],\n",
       "       [0.7517582 , 0.04536189, 0.97044598],\n",
       "       [0.01801948, 0.69573873, 0.20394314]])"
      ]
     },
     "execution_count": 11,
     "metadata": {},
     "output_type": "execute_result"
    }
   ],
   "source": [
    "arr1"
   ]
  },
  {
   "cell_type": "markdown",
   "id": "b3b8cbca-41fd-41fe-b042-8b7f4a52a610",
   "metadata": {},
   "source": [
    "The key differences between `np.random.rand` and `np.random.randn`:\n",
    "\n",
    "1. **Output shape**:\n",
    "   - `np.random.rand`: Generates random numbers from a uniform distribution over the range [0, 1). The output shape is determined by the arguments passed to the function.\n",
    "   - `np.random.randn`: Generates random numbers from a standard normal distribution (mean=0, standard deviation=1). The output shape is determined by the arguments passed to the function.\n",
    "\n",
    "2. **Distribution**:\n",
    "   - `np.random.rand`: Produces random numbers uniformly distributed between 0 and 1.\n",
    "   - `np.random.randn`: Produces random numbers from a standard normal distribution, meaning the distribution follows a bell-shaped curve with a mean of 0 and a standard deviation of 1.\n",
    "\n",
    "3. **Arguments**:\n",
    "   - `np.random.rand`: Accepts the dimensions of the output array as separate arguments (e.g., `np.random.rand(3, 2)` generates a 3x2 array).\n",
    "   - `np.random.randn`: Accepts the dimensions of the output array as separate arguments (e.g., `np.random.randn(3, 2)` generates a 3x2 array).\n"
   ]
  },
  {
   "cell_type": "code",
   "execution_count": 37,
   "id": "c02a08d7-1426-470f-a2a0-e2b5bb8b193b",
   "metadata": {},
   "outputs": [],
   "source": [
    "arr2 = np.expand_dims(arr,axis = 0) # expand rows"
   ]
  },
  {
   "cell_type": "code",
   "execution_count": 13,
   "id": "71617eb9-e151-4c60-a125-b1701b09388b",
   "metadata": {},
   "outputs": [
    {
     "data": {
      "text/plain": [
       "array([[[ 1,  2,  3,  4],\n",
       "        [ 5,  6,  7,  8],\n",
       "        [ 9, 10, 11, 12]]])"
      ]
     },
     "execution_count": 13,
     "metadata": {},
     "output_type": "execute_result"
    }
   ],
   "source": [
    "arr2"
   ]
  },
  {
   "cell_type": "code",
   "execution_count": 14,
   "id": "e1562ec8-9446-4a84-98dc-b515e5df3f9e",
   "metadata": {},
   "outputs": [],
   "source": [
    "arr3 = np.expand_dims(arr,axis = 1) # expandscolumn"
   ]
  },
  {
   "cell_type": "code",
   "execution_count": 15,
   "id": "66db7900-b34d-46ed-ae63-ace18f0a8ecf",
   "metadata": {},
   "outputs": [
    {
     "data": {
      "text/plain": [
       "array([[ 1,  5,  9],\n",
       "       [ 2,  6, 10],\n",
       "       [ 3,  7, 11],\n",
       "       [ 4,  8, 12]])"
      ]
     },
     "execution_count": 15,
     "metadata": {},
     "output_type": "execute_result"
    }
   ],
   "source": [
    "arr.T # transpose the matrix"
   ]
  },
  {
   "cell_type": "code",
   "execution_count": 16,
   "id": "971c6954-ad0b-4aea-811b-7e02d9c9641f",
   "metadata": {},
   "outputs": [
    {
     "data": {
      "text/plain": [
       "array([[ 1,  2,  3,  4],\n",
       "       [ 5,  6,  7,  8],\n",
       "       [ 9, 10, 11, 12]])"
      ]
     },
     "execution_count": 16,
     "metadata": {},
     "output_type": "execute_result"
    }
   ],
   "source": [
    "matrix_A = np.array([[1,2,3,4],[5,6,7,8],[9,10,11,12]])\n",
    "matrix_A"
   ]
  },
  {
   "cell_type": "code",
   "execution_count": 17,
   "id": "a8d33d9a-cfac-4c82-8fb0-5ffb4e13d00d",
   "metadata": {},
   "outputs": [
    {
     "data": {
      "text/plain": [
       "2"
      ]
     },
     "execution_count": 17,
     "metadata": {},
     "output_type": "execute_result"
    }
   ],
   "source": [
    "matrix_A.ndim"
   ]
  },
  {
   "cell_type": "code",
   "execution_count": 18,
   "id": "09d41b09-890c-41d9-bad2-d2742749d774",
   "metadata": {},
   "outputs": [
    {
     "data": {
      "text/plain": [
       "(3, 4)"
      ]
     },
     "execution_count": 18,
     "metadata": {},
     "output_type": "execute_result"
    }
   ],
   "source": [
    "matrix_A.shape"
   ]
  },
  {
   "cell_type": "code",
   "execution_count": 19,
   "id": "83d9a737-b350-47c2-8bf3-2a5305cdeed9",
   "metadata": {},
   "outputs": [
    {
     "data": {
      "text/plain": [
       "array([[ 1,  2,  3,  4],\n",
       "       [ 5,  6,  7,  8],\n",
       "       [ 9, 10, 11, 12]])"
      ]
     },
     "execution_count": 19,
     "metadata": {},
     "output_type": "execute_result"
    }
   ],
   "source": [
    "matrix_B= np.array([[1,2,3,4],[5,6,7,8],[9,10,11,12]])\n",
    "matrix_B"
   ]
  },
  {
   "cell_type": "code",
   "execution_count": 20,
   "id": "779d6a70-1908-4f86-a595-d82e25e68ba7",
   "metadata": {},
   "outputs": [
    {
     "data": {
      "text/plain": [
       "2"
      ]
     },
     "execution_count": 20,
     "metadata": {},
     "output_type": "execute_result"
    }
   ],
   "source": [
    "matrix_B.ndim"
   ]
  },
  {
   "cell_type": "code",
   "execution_count": 21,
   "id": "17181581-f37c-43da-a721-45f38c371008",
   "metadata": {},
   "outputs": [
    {
     "data": {
      "text/plain": [
       "(3, 4)"
      ]
     },
     "execution_count": 21,
     "metadata": {},
     "output_type": "execute_result"
    }
   ],
   "source": [
    "matrix_B .shape"
   ]
  },
  {
   "cell_type": "code",
   "execution_count": 22,
   "id": "1c53b5c0-7235-437a-8aa4-90ba789a3ec1",
   "metadata": {},
   "outputs": [
    {
     "data": {
      "text/plain": [
       "array([[  1,   4,   9,  16],\n",
       "       [ 25,  36,  49,  64],\n",
       "       [ 81, 100, 121, 144]])"
      ]
     },
     "execution_count": 22,
     "metadata": {},
     "output_type": "execute_result"
    }
   ],
   "source": [
    "# index wise multiplication \n",
    "matrix_A * matrix_B"
   ]
  },
  {
   "cell_type": "code",
   "execution_count": 23,
   "id": "b54964c3-9971-418c-93dc-0437b0c393f2",
   "metadata": {},
   "outputs": [
    {
     "data": {
      "text/plain": [
       "array([[ 30,  70, 110],\n",
       "       [ 70, 174, 278],\n",
       "       [110, 278, 446]])"
      ]
     },
     "execution_count": 23,
     "metadata": {},
     "output_type": "execute_result"
    }
   ],
   "source": [
    "# matrix multiplication \n",
    "matrix_A @ matrix_B.T"
   ]
  },
  {
   "cell_type": "code",
   "execution_count": 24,
   "id": "16b5c5ad-13a4-4f0b-b77e-be29ea76cad6",
   "metadata": {},
   "outputs": [
    {
     "data": {
      "text/plain": [
       "array([[ 2,  4,  6,  8],\n",
       "       [10, 12, 14, 16],\n",
       "       [18, 20, 22, 24]])"
      ]
     },
     "execution_count": 24,
     "metadata": {},
     "output_type": "execute_result"
    }
   ],
   "source": [
    "# add 2 multiplication \n",
    "matrix_A + matrix_B"
   ]
  },
  {
   "cell_type": "code",
   "execution_count": 25,
   "id": "5f5de8f1-a102-4e90-a3a5-c06d15679b10",
   "metadata": {},
   "outputs": [
    {
     "data": {
      "text/plain": [
       "array([[0, 0, 0, 0],\n",
       "       [0, 0, 0, 0],\n",
       "       [0, 0, 0, 0]])"
      ]
     },
     "execution_count": 25,
     "metadata": {},
     "output_type": "execute_result"
    }
   ],
   "source": [
    "# subtract matrix_B from A \n",
    "matrix_B - matrix_A"
   ]
  },
  {
   "cell_type": "code",
   "execution_count": 26,
   "id": "d0b3aa77-332b-427a-932d-cf4768df687e",
   "metadata": {},
   "outputs": [
    {
     "data": {
      "text/plain": [
       "array([[1., 1., 1., 1.],\n",
       "       [1., 1., 1., 1.],\n",
       "       [1., 1., 1., 1.]])"
      ]
     },
     "execution_count": 26,
     "metadata": {},
     "output_type": "execute_result"
    }
   ],
   "source": [
    "# devide Matrix B by A \n",
    "matrix_B / matrix_A"
   ]
  },
  {
   "cell_type": "markdown",
   "id": "a278f243-aaf7-43ed-92ab-70b22dd26a39",
   "metadata": {},
   "source": [
    "In NumPy, we use the `byteswap()` method to swap the byte order of an array. This method changes the byte order of the array elements in-place. \n"
   ]
  },
  {
   "cell_type": "markdown",
   "id": "43f83f79-2303-4c0b-8cab-6d5ea8f9a80b",
   "metadata": {},
   "source": [
    "We use numpy.linalg.inv() function to calculate the inverse of a matrix. The inverse of a matrix is such that if it is multiplied by the original matrix, it results in identity matrix."
   ]
  },
  {
   "cell_type": "code",
   "execution_count": 38,
   "id": "1090738a-c5e1-4368-b56f-2036b620b485",
   "metadata": {},
   "outputs": [],
   "source": [
    "x = np.array([[1,2],[3,4]]) \n",
    "y = np.linalg.inv(x) "
   ]
  },
  {
   "cell_type": "code",
   "execution_count": 39,
   "id": "f0612d38-d428-40ac-9eb0-a6b48d5d5ce5",
   "metadata": {},
   "outputs": [
    {
     "data": {
      "text/plain": [
       "array([[1, 2],\n",
       "       [3, 4]])"
      ]
     },
     "execution_count": 39,
     "metadata": {},
     "output_type": "execute_result"
    }
   ],
   "source": [
    "x"
   ]
  },
  {
   "cell_type": "code",
   "execution_count": 40,
   "id": "dbd50feb-0979-4135-99b8-46ab58fc420a",
   "metadata": {},
   "outputs": [
    {
     "data": {
      "text/plain": [
       "array([[-2. ,  1. ],\n",
       "       [ 1.5, -0.5]])"
      ]
     },
     "execution_count": 40,
     "metadata": {},
     "output_type": "execute_result"
    }
   ],
   "source": [
    "y"
   ]
  },
  {
   "cell_type": "code",
   "execution_count": 41,
   "id": "5c3b4003-ef09-4b58-baf2-9101091a09eb",
   "metadata": {},
   "outputs": [
    {
     "data": {
      "text/plain": [
       "array([[1.0000000e+00, 0.0000000e+00],\n",
       "       [8.8817842e-16, 1.0000000e+00]])"
      ]
     },
     "execution_count": 41,
     "metadata": {},
     "output_type": "execute_result"
    }
   ],
   "source": [
    "x @ y"
   ]
  },
  {
   "cell_type": "markdown",
   "id": "76cd2257-a490-4ab4-8072-c58d158ba425",
   "metadata": {},
   "source": [
    "The np.reshape() function in NumPy is used to change the shape of an array without changing its data."
   ]
  },
  {
   "cell_type": "code",
   "execution_count": 42,
   "id": "1197f991-62ad-4ec5-a159-4590ea6f7e85",
   "metadata": {},
   "outputs": [],
   "source": [
    "arr = np.array([1, 2, 3, 4, 5, 6])"
   ]
  },
  {
   "cell_type": "code",
   "execution_count": 43,
   "id": "a0c0d82d-fea9-42c9-bdde-f6a453b8a649",
   "metadata": {},
   "outputs": [
    {
     "data": {
      "text/plain": [
       "array([1, 2, 3, 4, 5, 6])"
      ]
     },
     "execution_count": 43,
     "metadata": {},
     "output_type": "execute_result"
    }
   ],
   "source": [
    "arr"
   ]
  },
  {
   "cell_type": "code",
   "execution_count": 44,
   "id": "e9af1dae-d31f-42f2-9d0d-3c3822b8ba9a",
   "metadata": {},
   "outputs": [],
   "source": [
    "reshaped_arr = np.reshape(arr, (2, 3))"
   ]
  },
  {
   "cell_type": "code",
   "execution_count": 45,
   "id": "e564361f-422d-4518-8db2-b5d36dae66a6",
   "metadata": {},
   "outputs": [
    {
     "data": {
      "text/plain": [
       "array([[1, 2, 3],\n",
       "       [4, 5, 6]])"
      ]
     },
     "execution_count": 45,
     "metadata": {},
     "output_type": "execute_result"
    }
   ],
   "source": [
    "reshaped_arr"
   ]
  },
  {
   "cell_type": "markdown",
   "id": "5022a2f7-f3c3-4382-9a0b-f8b71cea4eb6",
   "metadata": {},
   "source": [
    "Broadcasting in NumPy allows arrays of different shapes to be combined or operated upon together without the need for explicit loop-level concatenation or replication of data. It extends smaller arrays to match the shape of larger arrays and enables efficient element-wise operations by leveraging NumPy's underlying implementation."
   ]
  },
  {
   "cell_type": "code",
   "execution_count": 46,
   "id": "7296d60e-9f26-43aa-8c4d-95d65499aa31",
   "metadata": {},
   "outputs": [],
   "source": [
    "a = np.array([1, 2, 3])"
   ]
  },
  {
   "cell_type": "code",
   "execution_count": 47,
   "id": "d7dc8e9f-54d6-4d68-8211-76d81470b541",
   "metadata": {},
   "outputs": [
    {
     "data": {
      "text/plain": [
       "array([6, 7, 8])"
      ]
     },
     "execution_count": 47,
     "metadata": {},
     "output_type": "execute_result"
    }
   ],
   "source": [
    "a+5"
   ]
  },
  {
   "cell_type": "code",
   "execution_count": null,
   "id": "7a0235e5-fd11-4db9-a684-fc3853f74ac2",
   "metadata": {},
   "outputs": [],
   "source": []
  }
 ],
 "metadata": {
  "kernelspec": {
   "display_name": "Python 3 (ipykernel)",
   "language": "python",
   "name": "python3"
  },
  "language_info": {
   "codemirror_mode": {
    "name": "ipython",
    "version": 3
   },
   "file_extension": ".py",
   "mimetype": "text/x-python",
   "name": "python",
   "nbconvert_exporter": "python",
   "pygments_lexer": "ipython3",
   "version": "3.10.8"
  }
 },
 "nbformat": 4,
 "nbformat_minor": 5
}
