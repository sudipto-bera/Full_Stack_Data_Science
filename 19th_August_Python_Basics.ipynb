{
 "cells": [
  {
   "cell_type": "markdown",
   "id": "b4875b4b-397d-4f6b-9014-a59b7273c8d9",
   "metadata": {},
   "source": [
    "# Python Basic Variable"
   ]
  },
  {
   "cell_type": "code",
   "execution_count": 2,
   "id": "11e012bb-70f6-41e6-85a7-e87eec3dd9da",
   "metadata": {},
   "outputs": [
    {
     "name": "stdout",
     "output_type": "stream",
     "text": [
      "After swapping:\n",
      "x = 10\n",
      "y = 5\n"
     ]
    }
   ],
   "source": [
    "# Declare and initialize variables\n",
    "x = 5\n",
    "y = 10\n",
    "\n",
    "# Swapping without using a temporary variable\n",
    "x = x + y      # Add both values and store the result in x\n",
    "y = x - y      # Subtract the new x value (which was the sum) from y, and store the result in y\n",
    "x = x - y      # Subtract the new y value (which was the original x) from x, and store the result in x\n",
    "\n",
    "# Display the swapped values\n",
    "print(\"After swapping:\")\n",
    "print(\"x =\", x)\n",
    "print(\"y =\", y)\n"
   ]
  },
  {
   "cell_type": "code",
   "execution_count": 7,
   "id": "0cd62ab6-2cb6-4570-9463-e9e9f76e8193",
   "metadata": {},
   "outputs": [
    {
     "name": "stdin",
     "output_type": "stream",
     "text": [
      "Enter length of rectangle : 10\n",
      "Enter width of rectangle : 12\n"
     ]
    },
    {
     "name": "stdout",
     "output_type": "stream",
     "text": [
      "Area of rectangle :  120.0\n"
     ]
    }
   ],
   "source": [
    "# Input from user\n",
    "length = float(input(\"Enter length of rectangle :\")) # \n",
    "width = float(input(\"Enter width of rectangle :\"))\n",
    "\n",
    "# calculate area of rectangle\n",
    "area = length * width\n",
    "\n",
    "# Display the calculated area\n",
    "print(\"Area of rectangle : \", area)"
   ]
  },
  {
   "cell_type": "code",
   "execution_count": 10,
   "id": "fae33c85-cc97-4c90-94a8-391849a4d332",
   "metadata": {},
   "outputs": [
    {
     "name": "stdin",
     "output_type": "stream",
     "text": [
      "Enter the temp : 30\n"
     ]
    },
    {
     "name": "stdout",
     "output_type": "stream",
     "text": [
      "The temp in fehrenheit :  86.0\n"
     ]
    }
   ],
   "source": [
    "# Input temperature in Celsius from the user\n",
    "celsius = float(input(\"Enter the temp :\"))\n",
    "\n",
    "# Convert Celsius to Fahrenheit\n",
    "fahrenheit = (celsius * 1.8) + 32\n",
    "\n",
    "# Display the converted temperature in Fahrenheit\n",
    "print(\"The temp in fehrenheit : \",fahrenheit)"
   ]
  },
  {
   "cell_type": "markdown",
   "id": "b777eb4b-54f6-4974-aea1-14e49c1f419e",
   "metadata": {},
   "source": [
    "# String Based "
   ]
  },
  {
   "cell_type": "code",
   "execution_count": 15,
   "id": "4222ac5c-e081-4e09-8b2e-c15fc692cce0",
   "metadata": {},
   "outputs": [
    {
     "name": "stdin",
     "output_type": "stream",
     "text": [
      "Enter a string : Sudipto\n"
     ]
    },
    {
     "name": "stdout",
     "output_type": "stream",
     "text": [
      "The lenght of string :  7\n"
     ]
    }
   ],
   "source": [
    "# string input from the user\n",
    "str1 = input(\"Enter a string :\")\n",
    "\n",
    "# Display the length of string \n",
    "print(\"The lenght of string : \",len(str1))"
   ]
  },
  {
   "cell_type": "code",
   "execution_count": 18,
   "id": "ba07a0c2-eb6c-404a-a043-ccbe5f2c6016",
   "metadata": {},
   "outputs": [
    {
     "name": "stdin",
     "output_type": "stream",
     "text": [
      "Enter a sentence :  This is my first python assignment\n"
     ]
    },
    {
     "name": "stdout",
     "output_type": "stream",
     "text": [
      "No of vowels: 7\n"
     ]
    }
   ],
   "source": [
    "#Input a sentence from the user \n",
    "sentence = input(\"Enter a sentence : \")\n",
    "\n",
    "# Convert the sentence to lower case in case of case sensative \n",
    "sentence_lower = sentence.lower()\n",
    "\n",
    "# Initialize variables to count vowels \n",
    "vowel_count = 0 \n",
    "\n",
    "# Iterate through each char in the sentance \n",
    "for char in sentence_lower:\n",
    "    if char in \"aeiou\" :\n",
    "        vowel_count +=1 \n",
    "\n",
    "# Display no of vowels in the sentence \n",
    "print(\"No of vowels:\",vowel_count)"
   ]
  },
  {
   "cell_type": "code",
   "execution_count": 19,
   "id": "d5143af7-255f-44bf-beae-30cb42de792c",
   "metadata": {},
   "outputs": [
    {
     "name": "stdin",
     "output_type": "stream",
     "text": [
      "Enter a string :  this is a reverse string\n"
     ]
    },
    {
     "name": "stdout",
     "output_type": "stream",
     "text": [
      "gnirts esrever a si siht\n"
     ]
    }
   ],
   "source": [
    "#Input a string from the user \n",
    "input_string =input(\"Enter a string : \")\n",
    "\n",
    "# reverse the string using slicing \n",
    "reverse_string = input_string[::-1]\n",
    "\n",
    "#display the reverse string \n",
    "print(reverse_string)"
   ]
  },
  {
   "cell_type": "code",
   "execution_count": 20,
   "id": "17abe200-58ed-4b57-8e63-86a8c48491ec",
   "metadata": {},
   "outputs": [
    {
     "name": "stdin",
     "output_type": "stream",
     "text": [
      "Enter a string:  sudipto\n"
     ]
    },
    {
     "name": "stdout",
     "output_type": "stream",
     "text": [
      "The input string is not a palindrome.\n"
     ]
    }
   ],
   "source": [
    "# Input a string from the user\n",
    "input_string = input(\"Enter a string: \")\n",
    "\n",
    "# Remove spaces and convert to lowercase for case-insensitive comparison\n",
    "cleaned_string = input_string.replace(\" \", \"\").lower()\n",
    "\n",
    "# Reverse the string using string slicing\n",
    "reversed_string = cleaned_string[::-1]\n",
    "\n",
    "# Check if the original and reversed strings are the same\n",
    "if cleaned_string == reversed_string:\n",
    "    print(\"The input string is a palindrome.\")\n",
    "else:\n",
    "    print(\"The input string is not a palindrome.\")\n"
   ]
  },
  {
   "cell_type": "code",
   "execution_count": null,
   "id": "3b8c503c-4faa-46c5-9117-8e7523c27fa8",
   "metadata": {},
   "outputs": [],
   "source": []
  }
 ],
 "metadata": {
  "kernelspec": {
   "display_name": "Python 3 (ipykernel)",
   "language": "python",
   "name": "python3"
  },
  "language_info": {
   "codemirror_mode": {
    "name": "ipython",
    "version": 3
   },
   "file_extension": ".py",
   "mimetype": "text/x-python",
   "name": "python",
   "nbconvert_exporter": "python",
   "pygments_lexer": "ipython3",
   "version": "3.10.8"
  }
 },
 "nbformat": 4,
 "nbformat_minor": 5
}
